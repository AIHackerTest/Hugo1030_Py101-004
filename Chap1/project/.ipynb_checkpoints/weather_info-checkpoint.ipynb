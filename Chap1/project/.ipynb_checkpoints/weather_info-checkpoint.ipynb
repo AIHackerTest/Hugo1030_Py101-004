{
 "cells": [
  {
   "cell_type": "code",
   "execution_count": 1,
   "metadata": {},
   "outputs": [
    {
     "name": "stdout",
     "output_type": "stream",
     "text": [
      "请输入指令或您要查询的城市名：北京\n",
      "北京的天气状况为：晴\n",
      "请输入指令或您要查询的城市名：武汉\n",
      "武汉的天气状况为：小雨\n",
      "请输入指令或您要查询的城市名：help\n",
      "\n",
      "            输入城市名，查询该城市的天气；\n",
      "            输入 help, 获取帮助文档；\n",
      "            输入 history, 获取查询历史；\n",
      "            输入 quit, 退出天气查询系统。\n",
      "        \n",
      "请输入指令或您要查询的城市名：history\n",
      "北京 晴\n",
      "武汉 小雨\n",
      "请输入指令或您要查询的城市名：quit\n",
      "显示查询结果，退出程序！\n",
      "北京 晴\n",
      "武汉 小雨\n"
     ]
    }
   ],
   "source": [
    "#-*-coding:utf-8 -*-\n",
    "\n",
    "# 初始化，创建文件对象和字典类型\n",
    "weather_dic = {}\n",
    "history_dic = {}\n",
    "\n",
    "# 读取文件，将内容存入字典\n",
    "with open('weather_info.txt') as file:\n",
    "    for info in file.readlines():\n",
    "        city = info.split(',')[0]\n",
    "        weather = info.split(',')[1].rstrip('\\n')\n",
    "        weather_dic[city] = weather\n",
    "\n",
    "while True:\n",
    "    order = input('请输入指令或您要查询的城市名：')\n",
    "    if order in weather_dic.keys():\n",
    "        weather = weather_dic[order]\n",
    "        history_dic[order] = weather #保存查询结果\n",
    "        print('{}的天气状况为：{}'.format(order, weather))\n",
    "\n",
    "    # 查询帮助信息\n",
    "    elif order in ['h', 'help']:\n",
    "        print(\n",
    "        '''\n",
    "            输入城市名，查询该城市的天气；\n",
    "            输入 help, 获取帮助文档；\n",
    "            输入 history, 获取查询历史；\n",
    "            输入 quit, 退出天气查询系统。\n",
    "        '''        \n",
    "        )\n",
    "\n",
    "    # 查询历史记录\n",
    "    elif order in ['history']:\n",
    "        for order in history_dic:\n",
    "            print(order, history_dic[order])\n",
    "    \n",
    "    # 返回历史记录，退出程序\n",
    "    elif order in ['quit', 'q']:\n",
    "        print(\"显示查询结果，退出程序！\")\n",
    "        for order in history_dic:\n",
    "            print(order, history_dic[order])\n",
    "        break\n",
    "        \n",
    "    else:\n",
    "        print('没有该城市信息!请输入help查看帮助文档。') \n",
    "        "
   ]
  },
  {
   "cell_type": "code",
   "execution_count": null,
   "metadata": {
    "collapsed": true
   },
   "outputs": [],
   "source": [
    "#-*-coding:utf-8 -*-\n",
    "\n",
    "# 初始化，创建文件对象和字典类型\n",
    "weather_dic = {}\n",
    "history_dic = {}\n",
    "\n",
    "# 读取文件，将内容存入字典\n",
    "with open('weather_info.txt') as file:\n",
    "    for info in file.readlines():\n",
    "        city = info.split(',')[0]\n",
    "        weather = info.split(',')[1].rstrip('\\n')\n",
    "        weather_dic[city] = weather\n",
    "\n",
    "while True:\n",
    "    order = input('请输入指令或您要查询的城市名：')\n",
    "    if order in weather_dic.keys():\n",
    "        weather = weather_dic[order]\n",
    "        history_dic[order] = weather #保存查询结果\n",
    "        print('{}的天气状况为：{}'.format(order, weather))\n",
    "\n",
    "    # 查询帮助信息\n",
    "    elif order in ['h', 'help']:\n",
    "        print(\n",
    "        '''\n",
    "            输入城市名，查询该城市的天气；\n",
    "            输入 help, 获取帮助文档；\n",
    "            输入 history, 获取查询历史；\n",
    "            输入 quit, 退出天气查询系统。\n",
    "        '''        \n",
    "        )\n",
    "\n",
    "    # 查询历史记录\n",
    "    elif order in ['history']:\n",
    "        for order in history_dic:\n",
    "            print(order, history_dic[order])\n",
    "    \n",
    "    # 返回历史记录，退出程序\n",
    "    elif order in ['quit', 'q']:\n",
    "        print(\"显示查询结果，退出程序！\")\n",
    "        for order in history_dic:\n",
    "            print(order, history_dic[order])\n",
    "        break\n",
    "        \n",
    "    else:\n",
    "        print('没有该城市信息!请输入help查看帮助文档。') \n",
    "        "
   ]
  },
  {
   "cell_type": "code",
   "execution_count": 4,
   "metadata": {},
   "outputs": [
    {
     "name": "stdout",
     "output_type": "stream",
     "text": [
      "\n",
      "            输入城市名，查询该城市的天气；\n",
      "            输入 help, 获取帮助文档；\n",
      "            输入 history, 获取查询历史；\n",
      "            输入 quit, 退出天气查询系统。\n",
      "          \n"
     ]
    }
   ],
   "source": [
    "help_doc ='''\n",
    "            输入城市名，查询该城市的天气；\n",
    "            输入 help, 获取帮助文档；\n",
    "            输入 history, 获取查询历史；\n",
    "            输入 quit, 退出天气查询系统。\n",
    "          '''        \n",
    "def dispatch_dict(order):\n",
    "    return {\n",
    "        'add': lambda: '小雨',\n",
    "        'sub': lambda: print(help_doc),\n",
    "        'mul': lambda: 'history',\n",
    "        'div': lambda: 'quit',\n",
    "    }.get(order, lambda: None)()\n",
    "dispatch_dict(\"sub\")"
   ]
  },
  {
   "cell_type": "code",
   "execution_count": 5,
   "metadata": {},
   "outputs": [
    {
     "name": "stdout",
     "output_type": "stream",
     "text": [
      "请输入指令或您要查询的城市名：help\n",
      "\n",
      "            输入城市名，查询该城市的天气；\n",
      "            输入 help, 获取帮助文档；\n",
      "            输入 history, 获取查询历史；\n",
      "            输入 quit, 退出天气查询系统。\n",
      "          \n"
     ]
    },
    {
     "ename": "KeyboardInterrupt",
     "evalue": "",
     "output_type": "error",
     "traceback": [
      "\u001b[0;31m--------------------------------------\u001b[0m",
      "\u001b[0;31mKeyboardInterrupt\u001b[0mTraceback (most recent call last)",
      "\u001b[0;32m/Users/hugo/anaconda/lib/python3.6/site-packages/ipykernel/kernelbase.py\u001b[0m in \u001b[0;36m_input_request\u001b[0;34m(self, prompt, ident, parent, password)\u001b[0m\n\u001b[1;32m    729\u001b[0m             \u001b[0;32mtry\u001b[0m\u001b[0;34m:\u001b[0m\u001b[0;34m\u001b[0m\u001b[0m\n\u001b[0;32m--> 730\u001b[0;31m                 \u001b[0mident\u001b[0m\u001b[0;34m,\u001b[0m \u001b[0mreply\u001b[0m \u001b[0;34m=\u001b[0m \u001b[0mself\u001b[0m\u001b[0;34m.\u001b[0m\u001b[0msession\u001b[0m\u001b[0;34m.\u001b[0m\u001b[0mrecv\u001b[0m\u001b[0;34m(\u001b[0m\u001b[0mself\u001b[0m\u001b[0;34m.\u001b[0m\u001b[0mstdin_socket\u001b[0m\u001b[0;34m,\u001b[0m \u001b[0;36m0\u001b[0m\u001b[0;34m)\u001b[0m\u001b[0;34m\u001b[0m\u001b[0m\n\u001b[0m\u001b[1;32m    731\u001b[0m             \u001b[0;32mexcept\u001b[0m \u001b[0mException\u001b[0m\u001b[0;34m:\u001b[0m\u001b[0;34m\u001b[0m\u001b[0m\n",
      "\u001b[0;32m/Users/hugo/anaconda/lib/python3.6/site-packages/jupyter_client/session.py\u001b[0m in \u001b[0;36mrecv\u001b[0;34m(self, socket, mode, content, copy)\u001b[0m\n\u001b[1;32m    777\u001b[0m         \u001b[0;32mtry\u001b[0m\u001b[0;34m:\u001b[0m\u001b[0;34m\u001b[0m\u001b[0m\n\u001b[0;32m--> 778\u001b[0;31m             \u001b[0mmsg_list\u001b[0m \u001b[0;34m=\u001b[0m \u001b[0msocket\u001b[0m\u001b[0;34m.\u001b[0m\u001b[0mrecv_multipart\u001b[0m\u001b[0;34m(\u001b[0m\u001b[0mmode\u001b[0m\u001b[0;34m,\u001b[0m \u001b[0mcopy\u001b[0m\u001b[0;34m=\u001b[0m\u001b[0mcopy\u001b[0m\u001b[0;34m)\u001b[0m\u001b[0;34m\u001b[0m\u001b[0m\n\u001b[0m\u001b[1;32m    779\u001b[0m         \u001b[0;32mexcept\u001b[0m \u001b[0mzmq\u001b[0m\u001b[0;34m.\u001b[0m\u001b[0mZMQError\u001b[0m \u001b[0;32mas\u001b[0m \u001b[0me\u001b[0m\u001b[0;34m:\u001b[0m\u001b[0;34m\u001b[0m\u001b[0m\n",
      "\u001b[0;32m/Users/hugo/anaconda/lib/python3.6/site-packages/zmq/sugar/socket.py\u001b[0m in \u001b[0;36mrecv_multipart\u001b[0;34m(self, flags, copy, track)\u001b[0m\n\u001b[1;32m    394\u001b[0m         \"\"\"\n\u001b[0;32m--> 395\u001b[0;31m         \u001b[0mparts\u001b[0m \u001b[0;34m=\u001b[0m \u001b[0;34m[\u001b[0m\u001b[0mself\u001b[0m\u001b[0;34m.\u001b[0m\u001b[0mrecv\u001b[0m\u001b[0;34m(\u001b[0m\u001b[0mflags\u001b[0m\u001b[0;34m,\u001b[0m \u001b[0mcopy\u001b[0m\u001b[0;34m=\u001b[0m\u001b[0mcopy\u001b[0m\u001b[0;34m,\u001b[0m \u001b[0mtrack\u001b[0m\u001b[0;34m=\u001b[0m\u001b[0mtrack\u001b[0m\u001b[0;34m)\u001b[0m\u001b[0;34m]\u001b[0m\u001b[0;34m\u001b[0m\u001b[0m\n\u001b[0m\u001b[1;32m    396\u001b[0m         \u001b[0;31m# have first part already, only loop while more to receive\u001b[0m\u001b[0;34m\u001b[0m\u001b[0;34m\u001b[0m\u001b[0m\n",
      "\u001b[0;32mzmq/backend/cython/socket.pyx\u001b[0m in \u001b[0;36mzmq.backend.cython.socket.Socket.recv (zmq/backend/cython/socket.c:7683)\u001b[0;34m()\u001b[0m\n",
      "\u001b[0;32mzmq/backend/cython/socket.pyx\u001b[0m in \u001b[0;36mzmq.backend.cython.socket.Socket.recv (zmq/backend/cython/socket.c:7460)\u001b[0;34m()\u001b[0m\n",
      "\u001b[0;32mzmq/backend/cython/socket.pyx\u001b[0m in \u001b[0;36mzmq.backend.cython.socket._recv_copy (zmq/backend/cython/socket.c:2344)\u001b[0;34m()\u001b[0m\n",
      "\u001b[0;32m/Users/hugo/anaconda/lib/python3.6/site-packages/zmq/backend/cython/checkrc.pxd\u001b[0m in \u001b[0;36mzmq.backend.cython.checkrc._check_rc (zmq/backend/cython/socket.c:9621)\u001b[0;34m()\u001b[0m\n",
      "\u001b[0;31mKeyboardInterrupt\u001b[0m: ",
      "\nDuring handling of the above exception, another exception occurred:\n",
      "\u001b[0;31mKeyboardInterrupt\u001b[0mTraceback (most recent call last)",
      "\u001b[0;32m<ipython-input-5-af61290fd7d5>\u001b[0m in \u001b[0;36m<module>\u001b[0;34m()\u001b[0m\n\u001b[1;32m     22\u001b[0m \u001b[0;34m\u001b[0m\u001b[0m\n\u001b[1;32m     23\u001b[0m \u001b[0;32mwhile\u001b[0m \u001b[0;32mTrue\u001b[0m\u001b[0;34m:\u001b[0m\u001b[0;34m\u001b[0m\u001b[0m\n\u001b[0;32m---> 24\u001b[0;31m     \u001b[0morder\u001b[0m \u001b[0;34m=\u001b[0m \u001b[0minput\u001b[0m\u001b[0;34m(\u001b[0m\u001b[0;34m'请输入指令或您要查询的城市名：'\u001b[0m\u001b[0;34m)\u001b[0m\u001b[0;34m\u001b[0m\u001b[0m\n\u001b[0m\u001b[1;32m     25\u001b[0m     \u001b[0;32mtry\u001b[0m\u001b[0;34m:\u001b[0m\u001b[0;34m\u001b[0m\u001b[0m\n\u001b[1;32m     26\u001b[0m         \u001b[0mweather\u001b[0m \u001b[0;34m=\u001b[0m \u001b[0mweather_dic\u001b[0m\u001b[0;34m[\u001b[0m\u001b[0morder\u001b[0m\u001b[0;34m]\u001b[0m\u001b[0;34m\u001b[0m\u001b[0m\n",
      "\u001b[0;32m/Users/hugo/anaconda/lib/python3.6/site-packages/ipykernel/kernelbase.py\u001b[0m in \u001b[0;36mraw_input\u001b[0;34m(self, prompt)\u001b[0m\n\u001b[1;32m    703\u001b[0m             \u001b[0mself\u001b[0m\u001b[0;34m.\u001b[0m\u001b[0m_parent_ident\u001b[0m\u001b[0;34m,\u001b[0m\u001b[0;34m\u001b[0m\u001b[0m\n\u001b[1;32m    704\u001b[0m             \u001b[0mself\u001b[0m\u001b[0;34m.\u001b[0m\u001b[0m_parent_header\u001b[0m\u001b[0;34m,\u001b[0m\u001b[0;34m\u001b[0m\u001b[0m\n\u001b[0;32m--> 705\u001b[0;31m             \u001b[0mpassword\u001b[0m\u001b[0;34m=\u001b[0m\u001b[0;32mFalse\u001b[0m\u001b[0;34m,\u001b[0m\u001b[0;34m\u001b[0m\u001b[0m\n\u001b[0m\u001b[1;32m    706\u001b[0m         )\n\u001b[1;32m    707\u001b[0m \u001b[0;34m\u001b[0m\u001b[0m\n",
      "\u001b[0;32m/Users/hugo/anaconda/lib/python3.6/site-packages/ipykernel/kernelbase.py\u001b[0m in \u001b[0;36m_input_request\u001b[0;34m(self, prompt, ident, parent, password)\u001b[0m\n\u001b[1;32m    733\u001b[0m             \u001b[0;32mexcept\u001b[0m \u001b[0mKeyboardInterrupt\u001b[0m\u001b[0;34m:\u001b[0m\u001b[0;34m\u001b[0m\u001b[0m\n\u001b[1;32m    734\u001b[0m                 \u001b[0;31m# re-raise KeyboardInterrupt, to truncate traceback\u001b[0m\u001b[0;34m\u001b[0m\u001b[0;34m\u001b[0m\u001b[0m\n\u001b[0;32m--> 735\u001b[0;31m                 \u001b[0;32mraise\u001b[0m \u001b[0mKeyboardInterrupt\u001b[0m\u001b[0;34m\u001b[0m\u001b[0m\n\u001b[0m\u001b[1;32m    736\u001b[0m             \u001b[0;32melse\u001b[0m\u001b[0;34m:\u001b[0m\u001b[0;34m\u001b[0m\u001b[0m\n\u001b[1;32m    737\u001b[0m                 \u001b[0;32mbreak\u001b[0m\u001b[0;34m\u001b[0m\u001b[0m\n",
      "\u001b[0;31mKeyboardInterrupt\u001b[0m: "
     ]
    }
   ],
   "source": [
    "import sys\n",
    "weather_dic = {}\n",
    "history_list = []\n",
    "help_doc ='''\n",
    "            输入城市名，查询该城市的天气；\n",
    "            输入 help, 获取帮助文档；\n",
    "            输入 history, 获取查询历史；\n",
    "            输入 quit, 退出天气查询系统。\n",
    "          '''        \n",
    "def history_doc(history_list):\n",
    "    for line in history_list:\n",
    "        print(line)\n",
    "        \n",
    "def dispatch_dict(order):\n",
    "    return {\n",
    "        'help': lambda: print(help_doc),\n",
    "        'history': lambda: history_doc(history_list),\n",
    "        'quit': lambda: exit(0),\n",
    "    }.get(order, lambda: None)()\n",
    "\n",
    "with open('weather_info.txt') as file:\n",
    "    for info in file.readlines():\n",
    "        city, weather = info.split(',')\n",
    "        weather_dic[city] = weather\n",
    "    \n",
    "while True:\n",
    "    order = input('请输入指令或您要查询的城市名：')\n",
    "    try:\n",
    "        weather = weather_dic[order]\n",
    "        history_list.append(weather) #保存查询结果\n",
    "        print('{}的天气状况为：{}'.format(order, weather))\n",
    "    except KeyError:\n",
    "        dispatch_dict(order)"
   ]
  },
  {
   "cell_type": "code",
   "execution_count": 12,
   "metadata": {},
   "outputs": [
    {
     "name": "stdout",
     "output_type": "stream",
     "text": [
      "北京：晴\n",
      "武汉：小雨\n"
     ]
    }
   ],
   "source": [
    "history_list = ['北京：晴', '武汉：小雨']\n",
    "\n",
    "def history_doc(history_list):\n",
    "    for line in history_list:\n",
    "        print(line)\n",
    "    \n",
    "history_doc(history_list)"
   ]
  },
  {
   "cell_type": "code",
   "execution_count": null,
   "metadata": {
    "collapsed": true
   },
   "outputs": [],
   "source": []
  },
  {
   "cell_type": "code",
   "execution_count": null,
   "metadata": {
    "collapsed": true
   },
   "outputs": [],
   "source": []
  },
  {
   "cell_type": "code",
   "execution_count": null,
   "metadata": {
    "collapsed": true
   },
   "outputs": [],
   "source": []
  }
 ],
 "metadata": {
  "kernelspec": {
   "display_name": "Python 3",
   "language": "python",
   "name": "python3"
  },
  "language_info": {
   "codemirror_mode": {
    "name": "ipython",
    "version": 3
   },
   "file_extension": ".py",
   "mimetype": "text/x-python",
   "name": "python",
   "nbconvert_exporter": "python",
   "pygments_lexer": "ipython3",
   "version": "3.6.1"
  }
 },
 "nbformat": 4,
 "nbformat_minor": 2
}
