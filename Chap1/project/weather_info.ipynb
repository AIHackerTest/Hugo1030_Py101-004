{
 "cells": [
  {
   "cell_type": "code",
   "execution_count": 1,
   "metadata": {},
   "outputs": [
    {
     "name": "stdout",
     "output_type": "stream",
     "text": [
      "请输入指令或您要查询的城市名：北京\n",
      "北京的天气状况为：晴\n",
      "请输入指令或您要查询的城市名：武汉\n",
      "武汉的天气状况为：小雨\n",
      "请输入指令或您要查询的城市名：help\n",
      "\n",
      "            输入城市名，查询该城市的天气；\n",
      "            输入 help, 获取帮助文档；\n",
      "            输入 history, 获取查询历史；\n",
      "            输入 quit, 退出天气查询系统。\n",
      "        \n",
      "请输入指令或您要查询的城市名：history\n",
      "北京 晴\n",
      "武汉 小雨\n",
      "请输入指令或您要查询的城市名：quit\n",
      "显示查询结果，退出程序！\n",
      "北京 晴\n",
      "武汉 小雨\n"
     ]
    }
   ],
   "source": [
    "#-*-coding:utf-8 -*-\n",
    "\n",
    "# 初始化，创建文件对象和字典类型\n",
    "weather_dic = {}\n",
    "history_dic = {}\n",
    "\n",
    "# 读取文件，将内容存入字典\n",
    "with open('weather_info.txt') as file:\n",
    "    for info in file.readlines():\n",
    "        city = info.split(',')[0]\n",
    "        weather = info.split(',')[1].rstrip('\\n')\n",
    "        weather_dic[city] = weather\n",
    "\n",
    "while True:\n",
    "    order = input('请输入指令或您要查询的城市名：')\n",
    "    if order in weather_dic.keys():\n",
    "        weather = weather_dic[order]\n",
    "        history_dic[order] = weather #保存查询结果\n",
    "        print('{}的天气状况为：{}'.format(order, weather))\n",
    "\n",
    "    # 查询帮助信息\n",
    "    elif order in ['h', 'help']:\n",
    "        print(\n",
    "        '''\n",
    "            输入城市名，查询该城市的天气；\n",
    "            输入 help, 获取帮助文档；\n",
    "            输入 history, 获取查询历史；\n",
    "            输入 quit, 退出天气查询系统。\n",
    "        '''        \n",
    "        )\n",
    "\n",
    "    # 查询历史记录\n",
    "    elif order in ['history']:\n",
    "        for order in history_dic:\n",
    "            print(order, history_dic[order])\n",
    "    \n",
    "    # 返回历史记录，退出程序\n",
    "    elif order in ['quit', 'q']:\n",
    "        print(\"显示查询结果，退出程序！\")\n",
    "        for order in history_dic:\n",
    "            print(order, history_dic[order])\n",
    "        break\n",
    "        \n",
    "    else:\n",
    "        print('没有该城市信息!请输入help查看帮助文档。') \n",
    "        "
   ]
  },
  {
   "cell_type": "code",
   "execution_count": null,
   "metadata": {
    "collapsed": true
   },
   "outputs": [],
   "source": [
    "#-*-coding:utf-8 -*-\n",
    "\n",
    "# 初始化，创建文件对象和字典类型\n",
    "weather_dic = {}\n",
    "history_dic = {}\n",
    "\n",
    "# 读取文件，将内容存入字典\n",
    "with open('weather_info.txt') as file:\n",
    "    for info in file.readlines():\n",
    "        city = info.split(',')[0]\n",
    "        weather = info.split(',')[1].rstrip('\\n')\n",
    "        weather_dic[city] = weather\n",
    "\n",
    "while True:\n",
    "    order = input('请输入指令或您要查询的城市名：')\n",
    "    if order in weather_dic.keys():\n",
    "        weather = weather_dic[order]\n",
    "        history_dic[order] = weather #保存查询结果\n",
    "        print('{}的天气状况为：{}'.format(order, weather))\n",
    "\n",
    "    # 查询帮助信息\n",
    "    elif order in ['h', 'help']:\n",
    "        print(\n",
    "        '''\n",
    "            输入城市名，查询该城市的天气；\n",
    "            输入 help, 获取帮助文档；\n",
    "            输入 history, 获取查询历史；\n",
    "            输入 quit, 退出天气查询系统。\n",
    "        '''        \n",
    "        )\n",
    "\n",
    "    # 查询历史记录\n",
    "    elif order in ['history']:\n",
    "        for order in history_dic:\n",
    "            print(order, history_dic[order])\n",
    "    \n",
    "    # 返回历史记录，退出程序\n",
    "    elif order in ['quit', 'q']:\n",
    "        print(\"显示查询结果，退出程序！\")\n",
    "        for order in history_dic:\n",
    "            print(order, history_dic[order])\n",
    "        break\n",
    "        \n",
    "    else:\n",
    "        print('没有该城市信息!请输入help查看帮助文档。') \n",
    "        "
   ]
  },
  {
   "cell_type": "code",
   "execution_count": 4,
   "metadata": {},
   "outputs": [
    {
     "name": "stdout",
     "output_type": "stream",
     "text": [
      "\n",
      "            输入城市名，查询该城市的天气；\n",
      "            输入 help, 获取帮助文档；\n",
      "            输入 history, 获取查询历史；\n",
      "            输入 quit, 退出天气查询系统。\n",
      "          \n"
     ]
    }
   ],
   "source": [
    "help_doc ='''\n",
    "            输入城市名，查询该城市的天气；\n",
    "            输入 help, 获取帮助文档；\n",
    "            输入 history, 获取查询历史；\n",
    "            输入 quit, 退出天气查询系统。\n",
    "          '''        \n",
    "def dispatch_dict(order):\n",
    "    return {\n",
    "        'add': lambda: '小雨',\n",
    "        'sub': lambda: print(help_doc),\n",
    "        'mul': lambda: 'history',\n",
    "        'div': lambda: 'quit',\n",
    "    }.get(order, lambda: None)()\n",
    "dispatch_dict(\"sub\")"
   ]
  },
  {
   "cell_type": "code",
   "execution_count": 5,
   "metadata": {},
   "outputs": [
    {
     "name": "stdout",
     "output_type": "stream",
     "text": [
      "请输入指令或您要查询的城市名：北京\n",
      "北京的天气状况为：晴\n",
      "\n",
      "请输入指令或您要查询的城市名：武汉\n",
      "武汉的天气状况为：小雨\n",
      "\n",
      "请输入指令或您要查询的城市名：quit\n"
     ]
    },
    {
     "ename": "SystemExit",
     "evalue": "0",
     "output_type": "error",
     "traceback": [
      "An exception has occurred, use %tb to see the full traceback.\n",
      "\u001b[0;31mSystemExit\u001b[0m\u001b[0;31m:\u001b[0m 0\n"
     ]
    },
    {
     "name": "stderr",
     "output_type": "stream",
     "text": [
      "/Users/hugo/anaconda/lib/python3.6/site-packages/IPython/core/interactiveshell.py:2889: UserWarning: To exit: use 'exit', 'quit', or Ctrl-D.\n",
      "  warn(\"To exit: use 'exit', 'quit', or Ctrl-D.\", stacklevel=1)\n"
     ]
    }
   ],
   "source": [
    "import sys\n",
    "weather_dic = {}\n",
    "history_list = []\n",
    "help_doc ='''\n",
    "            输入城市名，查询该城市的天气；\n",
    "            输入 help, 获取帮助文档；\n",
    "            输入 history, 获取查询历史；\n",
    "            输入 quit, 退出天气查询系统。\n",
    "          '''        \n",
    "def history_doc(history_list):\n",
    "    for line in history_list:\n",
    "        print(line)\n",
    "\n",
    "with open('weather_info.txt') as file:\n",
    "    for info in file.readlines():\n",
    "        city, weather = info.split(',')\n",
    "        weather_dic[city] = weather\n",
    "        \n",
    "        \n",
    "        \n",
    "def dispatch_dict(order):\n",
    "    return {\n",
    "        'help': lambda: print(help_doc),\n",
    "        'history': lambda: history_doc(history_list),\n",
    "        'quit': lambda: sys.exit(0),\n",
    "    }.get(order, lambda: None)()\n",
    "\n",
    "    \n",
    "while True:\n",
    "    order = input('请输入指令或您要查询的城市名：')\n",
    "    try:\n",
    "        weather = weather_dic[order]\n",
    "        weather_str = f\"{order}:{weather}\"\n",
    "        history_list.append(weather_str) #保存查询结果\n",
    "        print('{}的天气状况为：{}'.format(order, weather))\n",
    "    except KeyError:\n",
    "        dispatch_dict(order)"
   ]
  },
  {
   "cell_type": "code",
   "execution_count": 12,
   "metadata": {},
   "outputs": [
    {
     "name": "stdout",
     "output_type": "stream",
     "text": [
      "北京：晴\n",
      "武汉：小雨\n"
     ]
    }
   ],
   "source": [
    "history_list = ['北京：晴', '武汉：小雨']\n",
    "\n",
    "def history_doc(history_list):\n",
    "    for line in history_list:\n",
    "        print(line)\n",
    "    \n",
    "history_doc(history_list)"
   ]
  },
  {
   "cell_type": "code",
   "execution_count": null,
   "metadata": {
    "collapsed": true
   },
   "outputs": [],
   "source": []
  },
  {
   "cell_type": "code",
   "execution_count": null,
   "metadata": {
    "collapsed": true
   },
   "outputs": [],
   "source": []
  },
  {
   "cell_type": "code",
   "execution_count": null,
   "metadata": {
    "collapsed": true
   },
   "outputs": [],
   "source": []
  }
 ],
 "metadata": {
  "kernelspec": {
   "display_name": "Python 3",
   "language": "python",
   "name": "python3"
  }
 },
 "nbformat": 4,
 "nbformat_minor": 2
}
