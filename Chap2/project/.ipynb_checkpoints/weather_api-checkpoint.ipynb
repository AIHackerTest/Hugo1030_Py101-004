{
 "cells": [
  {
   "cell_type": "code",
   "execution_count": null,
   "metadata": {
    "scrolled": true
   },
   "outputs": [
    {
     "name": "stdout",
     "output_type": "stream",
     "text": [
      "请输入指令或您要查询的城市名：北京\n",
      "2017-08-23\n",
      "北京白天多云,夜晚晴。        \n",
      "最高气温33度,最低气温21度\n",
      "西北风2级。\n",
      "\n",
      "请输入指令或您要查询的城市名：武汉\n",
      "2017-08-23\n",
      "武汉白天晴,夜晚晴。        \n",
      "最高气温36度,最低气温27度\n",
      "无持续风向风2级。\n",
      "\n",
      "请输入指令或您要查询的城市名：history\n",
      "2017-08-23\n",
      "北京白天多云,夜晚晴。        \n",
      "最高气温33度,最低气温21度\n",
      "西北风2级。\n",
      "\n",
      "2017-08-23\n",
      "武汉白天晴,夜晚晴。        \n",
      "最高气温36度,最低气温27度\n",
      "无持续风向风2级。\n",
      "\n",
      "请输入指令或您要查询的城市名：quit\n"
     ]
    }
   ],
   "source": [
    "#!/usr/bin/env python3\n",
    "#-*-coding:utf-8 -*-\n",
    "'''\n",
    "利用「心知天气」API，查询天气。\n",
    "输入城市名，查询该城市的天气；\n",
    "输入 help, 获取帮助文档；\n",
    "输入 history, 获取查询历史；\n",
    "输入 c，切换到摄氏度；\n",
    "输入 f，切换到华氏度；\n",
    "输入 0，查询今天天气；\n",
    "输入 1，查询明天天气；\n",
    "输入 2，查询后天天气；\n",
    "输入 quit, 退出天气查询系统。\n",
    "'''\n",
    "__version__ = \"V17.8.20.1902\"\n",
    "__author__ = \"hugo\"\n",
    "__lisence__ = \"MIT@2017-08\"\n",
    "\n",
    "import requests\n",
    "\n",
    "history_list = []\n",
    "unit = 'c'\n",
    "i = 0\n",
    "\n",
    "def fetch_weather(location, unit):# 用requests库，与API交互并获取信息\n",
    "    result = requests.get('https://api.seniverse.com/v3/weather/daily.json', params={\n",
    "            'key': 'aavbujnax07w0irk',\n",
    "            'location': location,\n",
    "            'language': 'zh-Hans',\n",
    "            'unit': unit\n",
    "        }, timeout=20) \n",
    "    return result.json()\n",
    "    \n",
    "def show_weather(result, i): # 处理JSON格式信息\n",
    "    daily = result['results'][0]['daily'][i]\n",
    "    date = daily['date']\n",
    "    text_day = daily['text_day']\n",
    "    text_night = daily['text_night']\n",
    "    high = daily['high']\n",
    "    low = daily['low']\n",
    "    wind_direction = daily['wind_direction']\n",
    "    wind_scale = daily['wind_scale']\n",
    "    weather_str = f'{date}\\n{order}白天{text_day},夜晚{text_night}。\\\n",
    "        \\n最高气温{high}度,最低气温{low}度\\n{wind_direction}风{wind_scale}级。\\n'\n",
    "    return weather_str\n",
    "        \n",
    "while True:\n",
    "    order = input('请输入指令或您要查询的城市名：')\n",
    "    try:# 显示查询信息，并保存到history列表中\n",
    "        result = fetch_weather(order, unit)\n",
    "        weather_str = show_weather(result, i)\n",
    "        print(weather_str)\n",
    "        history_list.append(weather_str)\n",
    "        \n",
    "    except KeyError:\n",
    "        if order in ['h', 'help']:\n",
    "            print(\n",
    "            '''\n",
    "                输入城市名，查询该城市的天气；\n",
    "                输入 help, 获取帮助文档；\n",
    "                输入 history, 获取查询历史；\n",
    "                输入 c，切换到摄氏度；\n",
    "                输入 f，切换到华氏度。\n",
    "                输入 0，查询今天天气；\n",
    "                输入 1，查询明天天气；\n",
    "                输入 2，查询后天天气。\n",
    "                输入 quit, 退出天气查询系统。\n",
    "            '''        \n",
    "            )\n",
    "        \n",
    "        # 温度切换\n",
    "        elif order in ['c','f']:\n",
    "            unit = order\n",
    "            print('已切换温度\\n')\n",
    "           \n",
    "        # 指定查询今天、明天或后天的天气\n",
    "        elif order in ['0' ,'1' ,'2']:\n",
    "            i = int(order)\n",
    "            print('已切换查询日期\\n')\n",
    "\n",
    "        # 查询历史记录\n",
    "        elif order in ['history']:\n",
    "            for info in history_list:\n",
    "                print(info)\n",
    "\n",
    "        # 返回历史记录，退出程序\n",
    "        elif order in ['quit', 'q']:\n",
    "            print(\"退出查询系统！\")\n",
    "            break\n",
    "\n",
    "        else:\n",
    "            print('没有该城市信息!请输入help查看帮助文档。') "
   ]
  },
  {
   "cell_type": "code",
   "execution_count": null,
   "metadata": {
    "collapsed": true
   },
   "outputs": [],
   "source": [
    "daily = result['results'][0]['daily'][i]\n"
   ]
  },
  {
   "cell_type": "code",
   "execution_count": 1,
   "metadata": {},
   "outputs": [
    {
     "data": {
      "text/plain": [
       "'bar'"
      ]
     },
     "execution_count": 1,
     "metadata": {},
     "output_type": "execute_result"
    }
   ],
   "source": [
    "from attrdict import AttrDict\n",
    "a = AttrDict({'foo': 'bar'})\n",
    "a.foo"
   ]
  },
  {
   "cell_type": "code",
   "execution_count": 9,
   "metadata": {},
   "outputs": [
    {
     "name": "stdout",
     "output_type": "stream",
     "text": [
      "{'date': '2017-08-30', 'text_day': '多云', 'code_day': '4', 'text_night': '多云', 'code_night': '4', 'high': '27', 'low': '19', 'precip': '', 'wind_direction': '南', 'wind_direction_degree': '180', 'wind_speed': '10', 'wind_scale': '2'}\n"
     ]
    }
   ],
   "source": [
    "import requests\n",
    "result = requests.get('https://api.seniverse.com/v3/weather/daily.json', params={\n",
    "        'key': 'aavbujnax07w0irk',\n",
    "        'location': '北京',\n",
    "        'language': 'zh-Hans',\n",
    "        'unit': ''\n",
    "    }, timeout=2) \n",
    "result = result.json()\n",
    "daily = result['results'][0]['daily'][0]"
   ]
  },
  {
   "cell_type": "code",
   "execution_count": 17,
   "metadata": {},
   "outputs": [
    {
     "name": "stdout",
     "output_type": "stream",
     "text": [
      "AttrDict({'date': '2017-08-31', 'text_day': '阴', 'code_day': '9', 'text_night': '阴', 'code_night': '9', 'high': '27', 'low': '18', 'precip': '', 'wind_direction': '南', 'wind_direction_degree': '180', 'wind_speed': '10', 'wind_scale': '2'})\n"
     ]
    }
   ],
   "source": [
    "import requests\n",
    "from attrdict import AttrDict\n",
    "\n",
    "result = requests.get('https://api.seniverse.com/v3/weather/daily.json', params={\n",
    "        'key': 'aavbujnax07w0irk',\n",
    "        'location': '北京',\n",
    "        'language': 'zh-Hans',\n",
    "        'unit': ''\n",
    "    }, timeout=2) \n",
    "attr = AttrDict(result.json())\n",
    "attr.results[0].daily[1]"
   ]
  },
  {
   "cell_type": "code",
   "execution_count": null,
   "metadata": {
    "collapsed": true
   },
   "outputs": [],
   "source": []
  },
  {
   "cell_type": "code",
   "execution_count": null,
   "metadata": {
    "collapsed": true
   },
   "outputs": [],
   "source": []
  },
  {
   "cell_type": "code",
   "execution_count": null,
   "metadata": {
    "collapsed": true
   },
   "outputs": [],
   "source": []
  },
  {
   "cell_type": "code",
   "execution_count": null,
   "metadata": {
    "collapsed": true
   },
   "outputs": [],
   "source": []
  },
  {
   "cell_type": "code",
   "execution_count": null,
   "metadata": {
    "collapsed": true
   },
   "outputs": [],
   "source": []
  }
 ],
 "metadata": {
  "kernelspec": {
   "display_name": "Python 3",
   "language": "python",
   "name": "python3"
  },
  "language_info": {
   "codemirror_mode": {
    "name": "ipython",
    "version": 3
   },
   "file_extension": ".py",
   "mimetype": "text/x-python",
   "name": "python",
   "nbconvert_exporter": "python",
   "pygments_lexer": "ipython3",
   "version": "3.6.1"
  }
 },
 "nbformat": 4,
 "nbformat_minor": 2
}
