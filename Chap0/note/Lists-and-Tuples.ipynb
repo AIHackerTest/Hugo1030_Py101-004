{
 "cells": [
  {
   "cell_type": "markdown",
   "metadata": {},
   "source": [
    "## Lists and Tuples"
   ]
  },
  {
   "cell_type": "markdown",
   "metadata": {},
   "source": [
    "## Lists"
   ]
  },
  {
   "cell_type": "markdown",
   "metadata": {},
   "source": [
    "### Introducing Lists"
   ]
  },
  {
   "cell_type": "code",
   "execution_count": 4,
   "metadata": {},
   "outputs": [
    {
     "name": "stdout",
     "output_type": "stream",
     "text": [
      "Hello, scotte!\n",
      "Hello, jane!\n",
      "Hello, hugo!\n"
     ]
    }
   ],
   "source": [
    "students = ['scotte', 'jane', 'hugo']\n",
    "for student in students:\n",
    "    print(\"Hello, \" + student + \"!\")"
   ]
  },
  {
   "cell_type": "code",
   "execution_count": 8,
   "metadata": {},
   "outputs": [
    {
     "name": "stdout",
     "output_type": "stream",
     "text": [
      "Green Apple\n",
      "Orange Orange\n",
      "Yellow Pear\n"
     ]
    }
   ],
   "source": [
    "fruits = ['green apple', 'orange orange', 'yellow pear']\n",
    "\n",
    "print(fruits[0].title())\n",
    "print(fruits[1].title())\n",
    "print(fruits[-1].title())"
   ]
  },
  {
   "cell_type": "code",
   "execution_count": 10,
   "metadata": {
    "scrolled": true
   },
   "outputs": [
    {
     "name": "stdout",
     "output_type": "stream",
     "text": [
      "A nice program language is: c\n",
      "A nice program language is: python\n",
      "A nice program language is: java\n"
     ]
    }
   ],
   "source": [
    "languages = ['c', 'python', 'java']\n",
    "for language in languages:\n",
    "    print('A nice program language is: %s' % language)"
   ]
  },
  {
   "cell_type": "code",
   "execution_count": 2,
   "metadata": {},
   "outputs": [
    {
     "name": "stdout",
     "output_type": "stream",
     "text": [
      "A nice program language is: c\n",
      "A nice program language is: python\n",
      "A nice program language is: java\n",
      "\n",
      "Thas`s how i feel about program language.\n"
     ]
    }
   ],
   "source": [
    "languages = ['c', 'python', 'java']\n",
    "for language in languages:\n",
    "    print('A nice program language is: %s' % language)\n",
    "    \n",
    "print('\\nThas`s how i feel about program language.')"
   ]
  },
  {
   "cell_type": "markdown",
   "metadata": {},
   "source": [
    "### Enumerate a list"
   ]
  },
  {
   "cell_type": "code",
   "execution_count": 7,
   "metadata": {},
   "outputs": [
    {
     "name": "stdout",
     "output_type": "stream",
     "text": [
      "Results of the fruites show are follows.\n",
      "Place: 0 Fruit: Apple\n",
      "Place: 1 Fruit: Orange\n",
      "Place: 2 Fruit: Pear\n"
     ]
    }
   ],
   "source": [
    "fruits = ['apple', 'orange', 'pear']\n",
    "print(\"Results of the fruites show are follows.\")\n",
    "\n",
    "for index,fruit in enumerate(fruits):\n",
    "    place = str(index)\n",
    "    print(\"Place: \" + place + ' Fruit: ' + fruit.title())"
   ]
  },
  {
   "cell_type": "code",
   "execution_count": 14,
   "metadata": {},
   "outputs": [
    {
     "name": "stdout",
     "output_type": "stream",
     "text": [
      "Results of the fruites show are follows.\n",
      "Place: 1 Fruit: Apple\n",
      "Place: 2 Fruit: Orange\n",
      "Place: 3 Fruit: Pear\n"
     ]
    }
   ],
   "source": [
    "fruits = ['apple', 'orange', 'pear']\n",
    "print(\"Results of the fruites show are follows.\")\n",
    "\n",
    "for index,fruit in enumerate(fruits):\n",
    "    place = str(index + 1)\n",
    "    print(\"Place: \" + place + ' Fruit: ' + fruit.title())"
   ]
  },
  {
   "cell_type": "markdown",
   "metadata": {},
   "source": [
    "### Common List Operation"
   ]
  },
  {
   "cell_type": "markdown",
   "metadata": {},
   "source": [
    "#### Modifying elements in a list"
   ]
  },
  {
   "cell_type": "code",
   "execution_count": 15,
   "metadata": {},
   "outputs": [
    {
     "name": "stdout",
     "output_type": "stream",
     "text": [
      "['peach', 'orange', 'pear']\n"
     ]
    }
   ],
   "source": [
    "fruits = ['apple', 'orange', 'pear']\n",
    "\n",
    "fruits[0] = 'peach'\n",
    "print(fruits)"
   ]
  },
  {
   "cell_type": "markdown",
   "metadata": {},
   "source": [
    "#### Finding a elemets in a list"
   ]
  },
  {
   "cell_type": "code",
   "execution_count": 16,
   "metadata": {},
   "outputs": [
    {
     "name": "stdout",
     "output_type": "stream",
     "text": [
      "2\n"
     ]
    }
   ],
   "source": [
    "fruits = ['apple', 'orange', 'pear']\n",
    "\n",
    "print(fruits.index('pear'))"
   ]
  },
  {
   "cell_type": "markdown",
   "metadata": {
    "collapsed": true
   },
   "source": [
    "#### Testing whether a item in a list"
   ]
  },
  {
   "cell_type": "code",
   "execution_count": 1,
   "metadata": {},
   "outputs": [
    {
     "name": "stdout",
     "output_type": "stream",
     "text": [
      "True\n",
      "False\n"
     ]
    }
   ],
   "source": [
    "fruits = ['apple', 'orange', 'pear']\n",
    "\n",
    "print('apple' in fruits)\n",
    "print('peach' in fruits)"
   ]
  },
  {
   "cell_type": "markdown",
   "metadata": {},
   "source": [
    "### Adding items to a list"
   ]
  },
  {
   "cell_type": "markdown",
   "metadata": {},
   "source": [
    "#### Adding items to the end of a list"
   ]
  },
  {
   "cell_type": "code",
   "execution_count": 3,
   "metadata": {},
   "outputs": [
    {
     "name": "stdout",
     "output_type": "stream",
     "text": [
      "apples are delicious!\n",
      "oranges are delicious!\n",
      "pears are delicious!\n",
      "peachs are delicious!\n"
     ]
    }
   ],
   "source": [
    "fruits = ['apple', 'orange', 'pear']\n",
    "\n",
    "fruits.append('peach')\n",
    "for fruit in fruits:\n",
    "    print(fruit + 's are delicious!')"
   ]
  },
  {
   "cell_type": "markdown",
   "metadata": {},
   "source": [
    "#### insert items in a list"
   ]
  },
  {
   "cell_type": "code",
   "execution_count": 5,
   "metadata": {},
   "outputs": [
    {
     "name": "stdout",
     "output_type": "stream",
     "text": [
      "['apple', 'peach', 'orange', 'pear']\n"
     ]
    }
   ],
   "source": [
    "fruits = ['apple', 'orange', 'pear']\n",
    "\n",
    "fruits.insert(1, 'peach')\n",
    "print(fruits)"
   ]
  },
  {
   "cell_type": "markdown",
   "metadata": {},
   "source": [
    "### creating an empty list"
   ]
  },
  {
   "cell_type": "code",
   "execution_count": 9,
   "metadata": {
    "scrolled": true
   },
   "outputs": [
    {
     "name": "stdout",
     "output_type": "stream",
     "text": [
      "Welcome, Jane !\n",
      "Welcome, Sccote !\n",
      "Welcome, Hugo !\n"
     ]
    }
   ],
   "source": [
    "username = []\n",
    "\n",
    "username.append('jane')\n",
    "username.append('sccote')\n",
    "username.append('hugo')\n",
    "\n",
    "for name in username:\n",
    "    print('Welcome, ', name.title(), \"!\")"
   ]
  },
  {
   "cell_type": "code",
   "execution_count": 13,
   "metadata": {},
   "outputs": [
    {
     "name": "stdout",
     "output_type": "stream",
     "text": [
      "Welcome,  Jane !\n",
      "Welcome,  Sccote !\n",
      "Welcome,  Hugo !\n",
      "\n",
      "Thanks for our first user: Jane !\n",
      "And a warm welcome to our newest user: Hugo !\n"
     ]
    }
   ],
   "source": [
    "username = []\n",
    "\n",
    "username.append('jane')\n",
    "username.append('sccote')\n",
    "username.append('hugo')\n",
    "\n",
    "for name in username:\n",
    "    print('Welcome, ', name.title(), \"!\")\n",
    "    \n",
    "print(\"\\nThanks for our first user:\", username[0].title(), \"!\" )\n",
    "print(\"And a warm welcome to our newest user:\", username[-1].title(), '!')"
   ]
  },
  {
   "cell_type": "markdown",
   "metadata": {},
   "source": [
    "### Sorting a list"
   ]
  },
  {
   "cell_type": "code",
   "execution_count": 15,
   "metadata": {},
   "outputs": [
    {
     "name": "stdout",
     "output_type": "stream",
     "text": [
      "our students are currently in alphabetical order.\n",
      "Welcome,  Hugo !\n",
      "Welcome,  Jane !\n",
      "Welcome,  Scotte !\n",
      "\n",
      "our students are currently in reverse alphabetical order.\n",
      "Welcome,  Scotte !\n",
      "Welcome,  Jane !\n",
      "Welcome,  Hugo !\n"
     ]
    }
   ],
   "source": [
    "students = ['jane', 'hugo', 'scotte']\n",
    "\n",
    "students.sort()\n",
    "print(\"our students are currently in alphabetical order.\")\n",
    "for student in students:\n",
    "    print('Welcome, ', student.title(), '!')\n",
    "    \n",
    "students.sort(reverse=True)\n",
    "print(\"\\nour students are currently in reverse alphabetical order.\")\n",
    "\n",
    "for student in students:\n",
    "    print('Welcome, ', student.title(), '!')"
   ]
  },
  {
   "cell_type": "markdown",
   "metadata": {},
   "source": [
    "#### sorted() vs. sort()"
   ]
  },
  {
   "cell_type": "code",
   "execution_count": 16,
   "metadata": {},
   "outputs": [
    {
     "name": "stdout",
     "output_type": "stream",
     "text": [
      "our students are currently in alphabetical order.\n",
      "Hugo\n",
      "Jane\n",
      "Scotte\n",
      "\n",
      "our students are currently in reverse alphabetical order.\n",
      "Scotte\n",
      "Jane\n",
      "Hugo\n",
      "\n",
      "Here is the list in original order.\n",
      "Jane\n",
      "Hugo\n",
      "Scotte\n"
     ]
    }
   ],
   "source": [
    "students = ['jane', 'hugo', 'scotte']\n",
    "\n",
    "print(\"our students are currently in alphabetical order.\")\n",
    "for student in sorted(students):\n",
    "    print(student.title())\n",
    "    \n",
    "print('\\nour students are currently in reverse alphabetical order.')\n",
    "for student in sorted(students, reverse=True):\n",
    "    print(student.title())\n",
    "    \n",
    "print('\\nHere is the list in original order.')\n",
    "for student in students:\n",
    "    print(student.title())"
   ]
  },
  {
   "cell_type": "markdown",
   "metadata": {},
   "source": [
    "#### Reversing a list"
   ]
  },
  {
   "cell_type": "code",
   "execution_count": 17,
   "metadata": {},
   "outputs": [
    {
     "name": "stdout",
     "output_type": "stream",
     "text": [
      "['scotte', 'hugo', 'jane']\n"
     ]
    }
   ],
   "source": [
    "students = ['jane', 'hugo', 'scotte']\n",
    "\n",
    "students.reverse()\n",
    "print(students)"
   ]
  },
  {
   "cell_type": "markdown",
   "metadata": {},
   "source": [
    "#### Sorting a number list"
   ]
  },
  {
   "cell_type": "code",
   "execution_count": 19,
   "metadata": {},
   "outputs": [
    {
     "name": "stdout",
     "output_type": "stream",
     "text": [
      "[1, 2, 3, 4]\n",
      "[4, 3, 2, 1]\n"
     ]
    }
   ],
   "source": [
    "numbers = [1, 3, 4, 2]\n",
    "\n",
    "numbers.sort()\n",
    "print(numbers)\n",
    "\n",
    "numbers.sort(reverse=True)\n",
    "print(numbers)"
   ]
  },
  {
   "cell_type": "code",
   "execution_count": 20,
   "metadata": {},
   "outputs": [
    {
     "name": "stdout",
     "output_type": "stream",
     "text": [
      "[1, 2, 3, 4]\n",
      "[1, 3, 4, 2]\n"
     ]
    }
   ],
   "source": [
    "numbers = [1, 3, 4, 2]\n",
    "\n",
    "print(sorted(numbers))\n",
    "print(numbers)"
   ]
  },
  {
   "cell_type": "code",
   "execution_count": 21,
   "metadata": {},
   "outputs": [
    {
     "name": "stdout",
     "output_type": "stream",
     "text": [
      "[2, 4, 3, 1]\n"
     ]
    }
   ],
   "source": [
    "numbers = [1, 3, 4, 2]\n",
    "\n",
    "numbers.reverse()\n",
    "print(numbers)"
   ]
  },
  {
   "cell_type": "markdown",
   "metadata": {},
   "source": [
    "### Finding the length of a list"
   ]
  },
  {
   "cell_type": "code",
   "execution_count": 22,
   "metadata": {},
   "outputs": [
    {
     "name": "stdout",
     "output_type": "stream",
     "text": [
      "3\n"
     ]
    }
   ],
   "source": [
    "username = ['jane', 'hugo', 'scotte']\n",
    "\n",
    "usercount = len(username)\n",
    "print(usercount)"
   ]
  },
  {
   "cell_type": "code",
   "execution_count": 26,
   "metadata": {},
   "outputs": [
    {
     "name": "stdout",
     "output_type": "stream",
     "text": [
      "We have 1 user.\n",
      "We have 3 users.\n"
     ]
    }
   ],
   "source": [
    "username = []\n",
    "\n",
    "username.append('jane')\n",
    "usercount = len(username)\n",
    "print('We have ' + str(usercount) + ' user.')\n",
    "\n",
    "username.append('hugo')\n",
    "username.append('scotte')\n",
    "usercount = len(username)\n",
    "print('We have ' + str(usercount) + ' users.')"
   ]
  },
  {
   "cell_type": "code",
   "execution_count": 38,
   "metadata": {},
   "outputs": [
    {
     "name": "stdout",
     "output_type": "stream",
     "text": [
      "1 teacher\n",
      "2 officer\n",
      "3 doctor\n",
      "4 programer\n",
      "1\n",
      "['teacher', 'officer', 'doctor', 'programer', 'trunck driver']\n",
      "['teacher', 'officer', 'housewifer', 'doctor', 'programer', 'trunck driver']\n"
     ]
    }
   ],
   "source": [
    "careers = ['teacher', 'officer', 'doctor', 'programer']\n",
    "for index,value in enumerate(careers):\n",
    "    print(index+1, value)\n",
    "    \n",
    "print(careers.index('officer'))\n",
    "\n",
    "careers.append('trunck driver')\n",
    "print(careers)\n",
    "\n",
    "careers.insert(2, 'housewifer')\n",
    "print(careers)"
   ]
  },
  {
   "cell_type": "markdown",
   "metadata": {
    "collapsed": true
   },
   "source": [
    "### Removing items from a list"
   ]
  },
  {
   "cell_type": "markdown",
   "metadata": {
    "collapsed": true
   },
   "source": [
    "#### Removing items by post"
   ]
  },
  {
   "cell_type": "code",
   "execution_count": 40,
   "metadata": {},
   "outputs": [
    {
     "name": "stdout",
     "output_type": "stream",
     "text": [
      "['pear', 'banana']\n"
     ]
    }
   ],
   "source": [
    "fruits = ['apple', 'pear', 'banana']\n",
    "\n",
    "del fruits[0]\n",
    "print(fruits)"
   ]
  },
  {
   "cell_type": "markdown",
   "metadata": {
    "collapsed": true
   },
   "source": [
    "#### Removint items by value"
   ]
  },
  {
   "cell_type": "code",
   "execution_count": 41,
   "metadata": {},
   "outputs": [
    {
     "name": "stdout",
     "output_type": "stream",
     "text": [
      "['apple', 'pear']\n"
     ]
    }
   ],
   "source": [
    "fruits = ['apple', 'pear', 'banana']\n",
    "\n",
    "fruits.remove('banana')\n",
    "print(fruits)"
   ]
  },
  {
   "cell_type": "markdown",
   "metadata": {
    "collapsed": true
   },
   "source": [
    "### Poping items from a list"
   ]
  },
  {
   "cell_type": "code",
   "execution_count": 1,
   "metadata": {},
   "outputs": [
    {
     "name": "stdout",
     "output_type": "stream",
     "text": [
      "banana\n",
      "['apple', 'pear']\n"
     ]
    }
   ],
   "source": [
    "fruits = ['apple', 'pear', 'banana']\n",
    "\n",
    "last_fruit = fruits.pop()\n",
    "print(last_fruit)\n",
    "print(fruits)"
   ]
  },
  {
   "cell_type": "code",
   "execution_count": 2,
   "metadata": {},
   "outputs": [
    {
     "name": "stdout",
     "output_type": "stream",
     "text": [
      "apple\n",
      "['pear', 'banana']\n"
     ]
    }
   ],
   "source": [
    "fruits = ['apple', 'pear', 'banana']\n",
    "\n",
    "first_fruit = fruits.pop(0)\n",
    "print(first_fruit)\n",
    "print(fruits)"
   ]
  },
  {
   "cell_type": "markdown",
   "metadata": {
    "collapsed": true
   },
   "source": [
    "## slicing a list"
   ]
  },
  {
   "cell_type": "code",
   "execution_count": 4,
   "metadata": {},
   "outputs": [
    {
     "name": "stdout",
     "output_type": "stream",
     "text": [
      "Jane\n",
      "Hugo\n",
      "Scotte\n"
     ]
    }
   ],
   "source": [
    "usernames = ['jane', 'hugo', 'scotte', 'bravo', 'nana']\n",
    "\n",
    "first_group = usernames[0:3]\n",
    "for name in first_group:\n",
    "    print(name.title())"
   ]
  },
  {
   "cell_type": "code",
   "execution_count": 5,
   "metadata": {},
   "outputs": [
    {
     "name": "stdout",
     "output_type": "stream",
     "text": [
      "Jane\n",
      "Hugo\n",
      "Scotte\n"
     ]
    }
   ],
   "source": [
    "usernames = ['jane', 'hugo', 'scotte', 'bravo', 'nana']\n",
    "\n",
    "first_group = usernames[:3]\n",
    "for name in first_group:\n",
    "    print(name.title())"
   ]
  },
  {
   "cell_type": "code",
   "execution_count": 6,
   "metadata": {},
   "outputs": [
    {
     "name": "stdout",
     "output_type": "stream",
     "text": [
      "Hugo\n",
      "Scotte\n",
      "Bravo\n"
     ]
    }
   ],
   "source": [
    "usernames = ['jane', 'hugo', 'scotte', 'bravo', 'nana']\n",
    "\n",
    "first_group = usernames[1:4]\n",
    "for name in first_group:\n",
    "    print(name.title())"
   ]
  },
  {
   "cell_type": "code",
   "execution_count": 7,
   "metadata": {},
   "outputs": [
    {
     "name": "stdout",
     "output_type": "stream",
     "text": [
      "Scotte\n",
      "Bravo\n",
      "Nana\n"
     ]
    }
   ],
   "source": [
    "usernames = ['jane', 'hugo', 'scotte', 'bravo', 'nana']\n",
    "\n",
    "first_group = usernames[2:]\n",
    "for name in first_group:\n",
    "    print(name.title())"
   ]
  },
  {
   "cell_type": "markdown",
   "metadata": {},
   "source": [
    "### copying a list"
   ]
  },
  {
   "cell_type": "code",
   "execution_count": 16,
   "metadata": {},
   "outputs": [
    {
     "name": "stdout",
     "output_type": "stream",
     "text": [
      "The full copied list:\n",
      "\t ['jane', 'hugo', 'scotte', 'bravo', 'nana']\n",
      "\n",
      "Two users removed from the copied list:\n",
      "\t ['scotte', 'bravo', 'nana']\n",
      "\n",
      "The original list:\n",
      "\t ['jane', 'hugo', 'scotte', 'bravo', 'nana']\n"
     ]
    }
   ],
   "source": [
    "usernames = ['jane', 'hugo', 'scotte', 'bravo', 'nana']\n",
    "\n",
    "copied_usernames = usernames[:]# protect the original list\n",
    "print('The full copied list:\\n\\t', copied_usernames)\n",
    "\n",
    "del copied_usernames[0]\n",
    "del copied_usernames[0]\n",
    "print('\\nTwo users removed from the copied list:\\n\\t', copied_usernames)\n",
    "\n",
    "print('\\nThe original list:\\n\\t', usernames)"
   ]
  },
  {
   "cell_type": "markdown",
   "metadata": {
    "collapsed": true
   },
   "source": [
    "### Numberical list"
   ]
  },
  {
   "cell_type": "markdown",
   "metadata": {},
   "source": [
    "### The range() funciton"
   ]
  },
  {
   "cell_type": "code",
   "execution_count": 18,
   "metadata": {},
   "outputs": [
    {
     "name": "stdout",
     "output_type": "stream",
     "text": [
      "1\n",
      "2\n",
      "3\n",
      "4\n",
      "5\n",
      "6\n",
      "7\n",
      "8\n",
      "9\n",
      "10\n"
     ]
    }
   ],
   "source": [
    "for num in range(1,11):\n",
    "    print(num)"
   ]
  },
  {
   "cell_type": "code",
   "execution_count": 20,
   "metadata": {},
   "outputs": [
    {
     "name": "stdout",
     "output_type": "stream",
     "text": [
      "1\n",
      "3\n",
      "5\n",
      "7\n",
      "9\n",
      "11\n",
      "13\n",
      "15\n",
      "17\n",
      "19\n"
     ]
    }
   ],
   "source": [
    "for num in range(1, 21, 2):\n",
    "    print(num)"
   ]
  },
  {
   "cell_type": "code",
   "execution_count": 21,
   "metadata": {},
   "outputs": [
    {
     "name": "stdout",
     "output_type": "stream",
     "text": [
      "[1, 2, 3, 4, 5, 6, 7, 8, 9, 10]\n"
     ]
    }
   ],
   "source": [
    "numbers = list(range(1, 11))\n",
    "print(numbers)"
   ]
  },
  {
   "cell_type": "code",
   "execution_count": 24,
   "metadata": {},
   "outputs": [
    {
     "name": "stdout",
     "output_type": "stream",
     "text": [
      "The list \"numbers\" has  100000 numbers in it.\n",
      "\n",
      "The last 10 numbers in list are:\n",
      "99991\n",
      "99992\n",
      "99993\n",
      "99994\n",
      "99995\n",
      "99996\n",
      "99997\n",
      "99998\n",
      "99999\n",
      "100000\n"
     ]
    }
   ],
   "source": [
    "numbers = list(range(1, 100001))\n",
    "\n",
    "print('The list \"numbers\" has ', str(len(numbers)), 'numbers in it.\\n')\n",
    "\n",
    "print('The last 10 numbers in list are:')\n",
    "for num in numbers[-10:]:\n",
    "    print(num)"
   ]
  },
  {
   "cell_type": "markdown",
   "metadata": {},
   "source": [
    "### The min() max() sum() functions"
   ]
  },
  {
   "cell_type": "code",
   "execution_count": 26,
   "metadata": {},
   "outputs": [
    {
     "name": "stdout",
     "output_type": "stream",
     "text": [
      "Our youngest reader is  12 years old.\n",
      "Our oldest reader is  51 years old.\n",
      "Together, we have  228 years worth of life.\n"
     ]
    }
   ],
   "source": [
    "ages = [12, 24, 22, 43, 51, 34, 15, 27]\n",
    "\n",
    "youngest = min(ages)\n",
    "oldest = max(ages)\n",
    "total = sum(ages)\n",
    "\n",
    "print('Our youngest reader is ', str(youngest), 'years old.')\n",
    "print('Our oldest reader is ', str(oldest), 'years old.')\n",
    "print('Together, we have ', str(total), 'years worth of life.')"
   ]
  },
  {
   "cell_type": "markdown",
   "metadata": {},
   "source": [
    "## list comprehensions"
   ]
  },
  {
   "cell_type": "markdown",
   "metadata": {},
   "source": [
    "### numberical comprehensions"
   ]
  },
  {
   "cell_type": "code",
   "execution_count": 36,
   "metadata": {
    "scrolled": true
   },
   "outputs": [
    {
     "name": "stdout",
     "output_type": "stream",
     "text": [
      "1\n",
      "4\n",
      "9\n",
      "16\n",
      "25\n",
      "36\n",
      "49\n",
      "64\n",
      "81\n",
      "100\n"
     ]
    }
   ],
   "source": [
    "squares = []\n",
    "\n",
    "for number in range(1, 11):\n",
    "    num = number ** 2\n",
    "    squares.append(num)\n",
    "\n",
    "for square in squares:\n",
    "    print(square)"
   ]
  },
  {
   "cell_type": "code",
   "execution_count": 37,
   "metadata": {},
   "outputs": [
    {
     "name": "stdout",
     "output_type": "stream",
     "text": [
      "1\n",
      "4\n",
      "9\n",
      "16\n",
      "25\n",
      "36\n",
      "49\n",
      "64\n",
      "81\n",
      "100\n"
     ]
    }
   ],
   "source": [
    "squares = []\n",
    "\n",
    "for num in range(1, 11):\n",
    "    squares.append(num**2)\n",
    "\n",
    "for square in squares:\n",
    "    print(square)"
   ]
  },
  {
   "cell_type": "code",
   "execution_count": 38,
   "metadata": {},
   "outputs": [
    {
     "name": "stdout",
     "output_type": "stream",
     "text": [
      "1\n",
      "4\n",
      "9\n",
      "16\n",
      "25\n",
      "36\n",
      "49\n",
      "64\n",
      "81\n",
      "100\n"
     ]
    }
   ],
   "source": [
    "squares = [num**2 for num in range(1, 11)]\n",
    "\n",
    "for square in squares:\n",
    "    print(square)"
   ]
  },
  {
   "cell_type": "code",
   "execution_count": 39,
   "metadata": {},
   "outputs": [
    {
     "name": "stdout",
     "output_type": "stream",
     "text": [
      "2\n",
      "4\n",
      "6\n",
      "8\n",
      "10\n",
      "12\n",
      "14\n",
      "16\n",
      "18\n",
      "20\n"
     ]
    }
   ],
   "source": [
    "evens = [num*2 for num in range(1, 11)] # it`s so sinple\n",
    "\n",
    "for even in evens:\n",
    "    print(even)"
   ]
  },
  {
   "cell_type": "markdown",
   "metadata": {},
   "source": [
    "### Non-numerical comprehensions"
   ]
  },
  {
   "cell_type": "code",
   "execution_count": 45,
   "metadata": {},
   "outputs": [
    {
     "name": "stdout",
     "output_type": "stream",
     "text": [
      "Hello, Jane are great!\n",
      "Hello, Hugo are great!\n",
      "Hello, Scoote are great!\n"
     ]
    }
   ],
   "source": [
    "students = ['jane', 'hugo', 'scoote']\n",
    "\n",
    "great_students = []\n",
    "for student in students:\n",
    "    great_students.append(student.title() + ' are great!')\n",
    "\n",
    "for great_student in great_students:\n",
    "    print(\"Hello, \" + great_student)"
   ]
  },
  {
   "cell_type": "code",
   "execution_count": 50,
   "metadata": {},
   "outputs": [
    {
     "name": "stdout",
     "output_type": "stream",
     "text": [
      "Hello, Jane are great!\n",
      "Hello, Hugo are great!\n",
      "Hello, Scotte are great!\n"
     ]
    }
   ],
   "source": [
    "students = ['jane', 'hugo', 'scotte']\n",
    "\n",
    "great_students = [student.title() + ' are great!' for student in students] # it`s so sinple\n",
    "\n",
    "for great_student in great_students:\n",
    "    print('Hello, ' + great_student)\n"
   ]
  },
  {
   "cell_type": "markdown",
   "metadata": {},
   "source": [
    "## Strings as Lists"
   ]
  },
  {
   "cell_type": "markdown",
   "metadata": {},
   "source": [
    "### string as list of characters"
   ]
  },
  {
   "cell_type": "code",
   "execution_count": 51,
   "metadata": {},
   "outputs": [
    {
     "name": "stdout",
     "output_type": "stream",
     "text": [
      "H\n",
      "e\n",
      "l\n",
      "l\n",
      "o\n",
      "!\n"
     ]
    }
   ],
   "source": [
    "message = 'Hello!'\n",
    "\n",
    "for letter in message:\n",
    "    print(letter)"
   ]
  },
  {
   "cell_type": "code",
   "execution_count": 54,
   "metadata": {},
   "outputs": [
    {
     "name": "stdout",
     "output_type": "stream",
     "text": [
      "['H', 'e', 'l', 'l', 'o', '!']\n"
     ]
    }
   ],
   "source": [
    "message = 'Hello!'\n",
    "\n",
    "message_list = list(message)\n",
    "print(message_list)"
   ]
  },
  {
   "cell_type": "markdown",
   "metadata": {},
   "source": [
    "### Slicing strings"
   ]
  },
  {
   "cell_type": "code",
   "execution_count": 55,
   "metadata": {},
   "outputs": [
    {
     "name": "stdout",
     "output_type": "stream",
     "text": [
      "H !\n"
     ]
    }
   ],
   "source": [
    "message = 'Hello!'\n",
    "\n",
    "first_char = message[0]\n",
    "last_char = message[-1]\n",
    "print(first_char, last_char)"
   ]
  },
  {
   "cell_type": "code",
   "execution_count": 56,
   "metadata": {},
   "outputs": [
    {
     "name": "stdout",
     "output_type": "stream",
     "text": [
      "Hel lo!\n"
     ]
    }
   ],
   "source": [
    "message = 'Hello!'\n",
    "\n",
    "first_three = message[:3]\n",
    "last_three = message[-3:]\n",
    "print(first_three, last_three)"
   ]
  },
  {
   "cell_type": "markdown",
   "metadata": {},
   "source": [
    "### Finding substrings"
   ]
  },
  {
   "cell_type": "code",
   "execution_count": 59,
   "metadata": {},
   "outputs": [
    {
     "name": "stdout",
     "output_type": "stream",
     "text": [
      "True\n"
     ]
    }
   ],
   "source": [
    "message = 'I like cats and dogs.'\n",
    "\n",
    "string = 'dogs' in message\n",
    "print(string)"
   ]
  },
  {
   "cell_type": "code",
   "execution_count": 60,
   "metadata": {},
   "outputs": [
    {
     "name": "stdout",
     "output_type": "stream",
     "text": [
      "16\n"
     ]
    }
   ],
   "source": [
    "message = 'I like cats and dogs.'\n",
    "\n",
    "dogs_index = message.find('dogs')\n",
    "print(dogs_index)"
   ]
  },
  {
   "cell_type": "code",
   "execution_count": 63,
   "metadata": {},
   "outputs": [
    {
     "name": "stdout",
     "output_type": "stream",
     "text": [
      "43\n"
     ]
    }
   ],
   "source": [
    "message = \"I like cats and dogs. and I`d rather own a dog.\"\n",
    "\n",
    "last_dog_index = message.rfind('dog')\n",
    "print(last_dog_index)"
   ]
  },
  {
   "cell_type": "markdown",
   "metadata": {},
   "source": [
    "### Replacing substrings"
   ]
  },
  {
   "cell_type": "code",
   "execution_count": 64,
   "metadata": {},
   "outputs": [
    {
     "name": "stdout",
     "output_type": "stream",
     "text": [
      "I like cats and snakes. and I`d rather own a snake.\n"
     ]
    }
   ],
   "source": [
    "message = \"I like cats and dogs. and I`d rather own a dog.\"\n",
    "\n",
    "message = message.replace('dog', 'snake')\n",
    "print(message)"
   ]
  },
  {
   "cell_type": "markdown",
   "metadata": {},
   "source": [
    "### Counting substrings"
   ]
  },
  {
   "cell_type": "code",
   "execution_count": 66,
   "metadata": {},
   "outputs": [
    {
     "name": "stdout",
     "output_type": "stream",
     "text": [
      "4\n"
     ]
    }
   ],
   "source": [
    "message = 'I like dog, jane don`t like dog, there`re so many dogs in our community, my grandmother own a dog.'\n",
    "\n",
    "dog_count = message.count('dog')\n",
    "print(dog_count)"
   ]
  },
  {
   "cell_type": "markdown",
   "metadata": {},
   "source": [
    "### Splitting strings"
   ]
  },
  {
   "cell_type": "code",
   "execution_count": 67,
   "metadata": {},
   "outputs": [
    {
     "name": "stdout",
     "output_type": "stream",
     "text": [
      "['\"I', 'like', 'cats', 'and', 'dogs.', 'and', 'I`d', 'rather', 'own', 'a', 'dog.']\n"
     ]
    }
   ],
   "source": [
    "message = '\"I like cats and dogs. and I`d rather own a dog.'\n",
    "\n",
    "words = message.split(\" \")\n",
    "print(words)"
   ]
  },
  {
   "cell_type": "code",
   "execution_count": 68,
   "metadata": {},
   "outputs": [
    {
     "name": "stdout",
     "output_type": "stream",
     "text": [
      "['cat', ' dog', ' tiger', ' mouse', ' bear', ' snake']\n"
     ]
    }
   ],
   "source": [
    "animals = 'cat, dog, tiger, mouse, bear, snake'\n",
    "\n",
    "animal = animals.split(\",\")\n",
    "print(animal)"
   ]
  },
  {
   "cell_type": "markdown",
   "metadata": {},
   "source": [
    "## Tuples"
   ]
  },
  {
   "cell_type": "markdown",
   "metadata": {},
   "source": [
    "### Defining tuples, and accessing elements"
   ]
  },
  {
   "cell_type": "code",
   "execution_count": 70,
   "metadata": {},
   "outputs": [
    {
     "name": "stdout",
     "output_type": "stream",
     "text": [
      "The first color is:  red\n",
      "\n",
      "The available colors are: \n",
      "- red\n",
      "- blue\n",
      "- green\n"
     ]
    }
   ],
   "source": [
    "colors = ('red', 'blue', 'green')\n",
    "\n",
    "print('The first color is: ', colors[0])\n",
    "\n",
    "print('\\nThe available colors are: ')\n",
    "for color in colors:\n",
    "    print('-', color)"
   ]
  }
 ],
 "metadata": {
  "kernelspec": {
   "display_name": "Python 3",
   "language": "python",
   "name": "python3"
  },
  "language_info": {
   "codemirror_mode": {
    "name": "ipython",
    "version": 3
   },
   "file_extension": ".py",
   "mimetype": "text/x-python",
   "name": "python",
   "nbconvert_exporter": "python",
   "pygments_lexer": "ipython3",
   "version": "3.6.1"
  }
 },
 "nbformat": 4,
 "nbformat_minor": 2
}
