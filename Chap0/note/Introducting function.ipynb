{
 "cells": [
  {
   "cell_type": "markdown",
   "metadata": {},
   "source": [
    "## Introducing Functions"
   ]
  },
  {
   "cell_type": "code",
   "execution_count": 1,
   "metadata": {
    "scrolled": true
   },
   "outputs": [
    {
     "name": "stdout",
     "output_type": "stream",
     "text": [
      "\n",
      "You are doing good work. Jane!\n",
      "Thank you very much for your efforts in this project.\n",
      "\n",
      "You are doing good work. Hugo!\n",
      "Thank you very much for your efforts in this project.\n",
      "\n",
      "You are doing good work. Scotte!\n",
      "Thank you very much for your efforts in this project.\n"
     ]
    }
   ],
   "source": [
    "def thank_you(name):\n",
    "    print(\"\\nYou are doing good work. %s!\" % name)\n",
    "    print(\"Thank you very much for your efforts in this project.\")\n",
    "    \n",
    "thank_you('Jane')\n",
    "thank_you(\"Hugo\")\n",
    "thank_you(\"Scotte\")"
   ]
  },
  {
   "cell_type": "code",
   "execution_count": 5,
   "metadata": {
    "scrolled": true
   },
   "outputs": [
    {
     "name": "stdout",
     "output_type": "stream",
     "text": [
      "Our students are in currently alphabetical order.\n",
      "- Hugo\n",
      "- Jane\n",
      "- Scotte\n",
      "\n",
      "Our students are in currently alphabetical reverse order.\n",
      "- Scotte\n",
      "- Jane\n",
      "- Hugo\n"
     ]
    }
   ],
   "source": [
    "def show_students(students, message):\n",
    "    print(message)\n",
    "    for student in students:\n",
    "        print('-', student.title())\n",
    "        \n",
    "students = ['jane', 'hugo', 'scotte']\n",
    "\n",
    "students.sort()\n",
    "show_students(students, 'Our students are in currently alphabetical order.')\n",
    "\n",
    "students.sort(reverse=True)\n",
    "show_students(students, '\\nOur students are in currently alphabetical reverse order.')"
   ]
  },
  {
   "cell_type": "markdown",
   "metadata": {},
   "source": [
    "### Returning a Value"
   ]
  },
  {
   "cell_type": "code",
   "execution_count": 7,
   "metadata": {},
   "outputs": [
    {
     "name": "stdout",
     "output_type": "stream",
     "text": [
      "0 Zero\n",
      "1 One\n",
      "2 Two\n",
      "3 Three\n",
      "4 I`m sorry, I don`t know that number.\n",
      "5 I`m sorry, I don`t know that number.\n"
     ]
    }
   ],
   "source": [
    "def get_number_word(number):\n",
    "    if number == 0:\n",
    "        return 'Zero'\n",
    "    elif number == 1:\n",
    "        return 'One'\n",
    "    elif number == 2:\n",
    "        return 'Two'\n",
    "    elif number == 3:\n",
    "        return 'Three'\n",
    "    else:\n",
    "        return 'I`m sorry, I don`t know that number.'\n",
    "    \n",
    "for current_number in range(0, 6):\n",
    "    number_word = get_number_word(current_number)\n",
    "    print(current_number, number_word)"
   ]
  }
 ],
 "metadata": {
  "kernelspec": {
   "display_name": "Python 3",
   "language": "python",
   "name": "python3"
  },
  "language_info": {
   "codemirror_mode": {
    "name": "ipython",
    "version": 3
   },
   "file_extension": ".py",
   "mimetype": "text/x-python",
   "name": "python",
   "nbconvert_exporter": "python",
   "pygments_lexer": "ipython3",
   "version": "3.6.1"
  }
 },
 "nbformat": 4,
 "nbformat_minor": 2
}
