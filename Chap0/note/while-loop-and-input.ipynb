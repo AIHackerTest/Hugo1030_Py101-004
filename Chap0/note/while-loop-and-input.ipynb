{
 "cells": [
  {
   "cell_type": "markdown",
   "metadata": {},
   "source": [
    "## While loop"
   ]
  },
  {
   "cell_type": "code",
   "execution_count": 1,
   "metadata": {},
   "outputs": [
    {
     "name": "stdout",
     "output_type": "stream",
     "text": [
      "You still playing, because you have 5 powers.\n",
      "You still playing, because you have 4 powers.\n",
      "You still playing, because you have 3 powers.\n",
      "You still playing, because you have 2 powers.\n",
      "You still playing, because you have 1 powers.\n",
      "\n",
      "Oh no, your power droped to 0, Game over!\n"
     ]
    }
   ],
   "source": [
    "power = 5\n",
    "\n",
    "while power > 0:\n",
    "    print(\"You still playing, because you have %s powers.\" % power)\n",
    "    power -= 1\n",
    "    \n",
    "print(\"\\nOh no, your power droped to 0, Game over!\")"
   ]
  },
  {
   "cell_type": "markdown",
   "metadata": {},
   "source": [
    "## Accepting user input "
   ]
  },
  {
   "cell_type": "code",
   "execution_count": 5,
   "metadata": {},
   "outputs": [
    {
     "name": "stdout",
     "output_type": "stream",
     "text": [
      "Please someone I should know: zoom\n",
      "['scoote', 'jane', 'hugo', 'zoom']\n"
     ]
    }
   ],
   "source": [
    "names = ['scoote', 'jane', 'hugo']\n",
    "\n",
    "new_name = input(\"Please someone I should know: \")\n",
    "names.append(new_name)\n",
    "print(names)"
   ]
  },
  {
   "cell_type": "markdown",
   "metadata": {},
   "source": [
    "## Using while loop to let your program running"
   ]
  },
  {
   "cell_type": "code",
   "execution_count": 7,
   "metadata": {},
   "outputs": [
    {
     "name": "stdout",
     "output_type": "stream",
     "text": [
      "Please tell me someone I should know: zoom\n",
      "Please tell me someone I should know: jane\n",
      "Please tell me someone I should know: scotte\n",
      "Please tell me someone I should know: hugo\n",
      "Please tell me someone I should know: quit\n",
      "['zoom', 'jane', 'scotte', 'hugo']\n"
     ]
    }
   ],
   "source": [
    "names = []\n",
    "new_name = ''\n",
    "\n",
    "while new_name != 'quit':\n",
    "    new_name = input(\"Please tell me someone I should know: \")\n",
    "    if new_name != 'quit':\n",
    "        names.append(new_name)\n",
    "    \n",
    "print(names)"
   ]
  },
  {
   "cell_type": "markdown",
   "metadata": {},
   "source": [
    "### Using while loops to make menus"
   ]
  },
  {
   "cell_type": "code",
   "execution_count": null,
   "metadata": {
    "collapsed": true
   },
   "outputs": [],
   "source": [
    "print(\"\\nWelcome to the nature center, What would you like to do ?\")\n",
    "\n",
    "choice = ''"
   ]
  },
  {
   "cell_type": "code",
   "execution_count": null,
   "metadata": {
    "collapsed": true
   },
   "outputs": [],
   "source": []
  },
  {
   "cell_type": "code",
   "execution_count": null,
   "metadata": {
    "collapsed": true
   },
   "outputs": [],
   "source": []
  },
  {
   "cell_type": "code",
   "execution_count": null,
   "metadata": {
    "collapsed": true
   },
   "outputs": [],
   "source": []
  },
  {
   "cell_type": "code",
   "execution_count": null,
   "metadata": {
    "collapsed": true
   },
   "outputs": [],
   "source": []
  },
  {
   "cell_type": "code",
   "execution_count": null,
   "metadata": {
    "collapsed": true
   },
   "outputs": [],
   "source": []
  },
  {
   "cell_type": "code",
   "execution_count": null,
   "metadata": {
    "collapsed": true
   },
   "outputs": [],
   "source": []
  },
  {
   "cell_type": "code",
   "execution_count": null,
   "metadata": {
    "collapsed": true
   },
   "outputs": [],
   "source": []
  }
 ],
 "metadata": {
  "kernelspec": {
   "display_name": "Python 3",
   "language": "python",
   "name": "python3"
  },
  "language_info": {
   "codemirror_mode": {
    "name": "ipython",
    "version": 3
   },
   "file_extension": ".py",
   "mimetype": "text/x-python",
   "name": "python",
   "nbconvert_exporter": "python",
   "pygments_lexer": "ipython3",
   "version": "3.6.1"
  }
 },
 "nbformat": 4,
 "nbformat_minor": 2
}
