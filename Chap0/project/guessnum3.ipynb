{
 "cells": [
  {
   "cell_type": "code",
   "execution_count": 25,
   "metadata": {},
   "outputs": [
    {
     "name": "stdout",
     "output_type": "stream",
     "text": [
      "***欢迎来玩'猜数字游戏' V1.0！***\n",
      "猜一个100以内的整数！\n",
      "你只有10次机会\n",
      ">>> 101\n"
     ]
    }
   ],
   "source": [
    "#-*-coding:utf-8 -*-\n",
    "#系统随机生成的数字在1~100内（包括1和100），例如数字42\n",
    "#系统要求玩家在1~100内猜数字\n",
    "#当玩家选择一个数字，例如数字3，系统讲提示：“不正确，请在3~100内选数字”（这时选择范围就不包括3，但依然包括100）\n",
    "#每个玩家选择数字后，都会缩减可选择的范围\n",
    "#玩家只有10次机会\n",
    "\n",
    "import random\n",
    "import sys\n",
    "\n",
    "num = random.randint(1, 100)\n",
    "min = 1\n",
    "max = 100\n",
    "times = 0\n",
    "\n",
    "try:\n",
    "    print (\"***欢迎来玩'猜数字游戏' V1.0！***\")\n",
    "    print (\"猜一个100以内的整数！\")\n",
    "    print (\"你只有10次机会\")\n",
    "    guess = int(input(\">>> \"))\n",
    "    times = times + 1 \n",
    "\n",
    "    if min <= guess <= max:\n",
    "        while True:\n",
    "            if times <= 10:\n",
    "                if guess < num:\n",
    "                    min = guess\n",
    "                    print (\"请在{}-{}内猜数字！\".format(min , max))\n",
    "                    print (\"你还有{}次机会！\".format(10 - times))\n",
    "                elif guess > num:\n",
    "                    max = guess\n",
    "                    print (\"请在{}-{}内猜数字！\".format(min , max))\n",
    "                    print (\"你还有{}次机会！\".format(10-times))\n",
    "                else:\n",
    "                    print (\"恭喜，你猜对了！\")\n",
    "                    print (\"你一共猜了{}次。\".format(times))\n",
    "                    break\n",
    "                guess = int(input(\">>> \"))\n",
    "                times = times + 1\n",
    "            else:\n",
    "                print (\"你猜的次数太多了，游戏结束！\")\n",
    "                break\n",
    "                \n",
    "    elif guess > max and guess < min:\n",
    "        print (\"输入超出范围，游戏结束！\")\n",
    "except Exception as e:\n",
    "    print (\"输入错误！\")"
   ]
  },
  {
   "cell_type": "markdown",
   "metadata": {
    "collapsed": true
   },
   "source": [
    " "
   ]
  },
  {
   "cell_type": "code",
   "execution_count": null,
   "metadata": {
    "collapsed": true
   },
   "outputs": [],
   "source": []
  }
 ],
 "metadata": {
  "kernelspec": {
   "display_name": "Python 3",
   "language": "python",
   "name": "python3"
  },
  "language_info": {
   "codemirror_mode": {
    "name": "ipython",
    "version": 3
   },
   "file_extension": ".py",
   "mimetype": "text/x-python",
   "name": "python",
   "nbconvert_exporter": "python",
   "pygments_lexer": "ipython3",
   "version": "3.6.1"
  }
 },
 "nbformat": 4,
 "nbformat_minor": 2
}
