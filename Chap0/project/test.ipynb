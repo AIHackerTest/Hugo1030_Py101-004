{
 "cells": [
  {
   "cell_type": "code",
   "execution_count": 1,
   "metadata": {},
   "outputs": [
    {
     "name": "stdout",
     "output_type": "stream",
     "text": [
      "[('beijing', 'sun'), ('wuhan', 'rain')]\n"
     ]
    }
   ],
   "source": [
    "history = []\n",
    "turple = ()\n",
    "day1 = 'sun'\n",
    "day2 = 'rain'\n",
    "city1 = 'beijing'\n",
    "city2 = 'wuhan'\n",
    "history = [(city1, day1),(city2, day2)]\n",
    "print(history)"
   ]
  },
  {
   "cell_type": "code",
   "execution_count": null,
   "metadata": {
    "collapsed": true
   },
   "outputs": [],
   "source": []
  }
 ],
 "metadata": {
  "kernelspec": {
   "display_name": "Python 3",
   "language": "python",
   "name": "python3"
  },
  "language_info": {
   "codemirror_mode": {
    "name": "ipython",
    "version": 3
   },
   "file_extension": ".py",
   "mimetype": "text/x-python",
   "name": "python",
   "nbconvert_exporter": "python",
   "pygments_lexer": "ipython3",
   "version": "3.6.1"
  }
 },
 "nbformat": 4,
 "nbformat_minor": 2
}
