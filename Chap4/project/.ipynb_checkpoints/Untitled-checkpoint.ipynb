{
 "cells": [
  {
   "cell_type": "code",
   "execution_count": 2,
   "metadata": {},
   "outputs": [
    {
     "name": "stdout",
     "output_type": "stream",
     "text": [
      "2017-09-10 阵雨\n"
     ]
    }
   ],
   "source": [
    "import sqlite3 as lite\n",
    "import sys\n",
    "\n",
    "uId = \"北京\"\n",
    "\n",
    "con = lite.connect('weather.db')\n",
    "\n",
    "with con:\n",
    "\n",
    "    cur = con.cursor()    \n",
    "\n",
    "    cur.execute(\"SELECT Day, Text_day FROM Weathers WHERE Location=:Location\", \n",
    "        {\"Location\": uId})        \n",
    "    con.commit()\n",
    "    \n",
    "    row = cur.fetchone()\n",
    "    print(row[0], row[1])"
   ]
  },
  {
   "cell_type": "code",
   "execution_count": 7,
   "metadata": {},
   "outputs": [
    {
     "ename": "SyntaxError",
     "evalue": "invalid syntax (<ipython-input-7-f027e59c5cd0>, line 7)",
     "output_type": "error",
     "traceback": [
      "\u001b[0;36m  File \u001b[0;32m\"<ipython-input-7-f027e59c5cd0>\"\u001b[0;36m, line \u001b[0;32m7\u001b[0m\n\u001b[0;31m    weather_str = u'{}，{}白天{}，夜晚{}。最高气温{}度，最低气温{}度。{}风{}级。'.format(row[0], row[1], row[2, row[3], row[4], row[5], row[6], row[7])\u001b[0m\n\u001b[0m                                                                                                                                ^\u001b[0m\n\u001b[0;31mSyntaxError\u001b[0m\u001b[0;31m:\u001b[0m invalid syntax\n"
     ]
    }
   ],
   "source": [
    "city = '北京'\n",
    "con = lite.connect('weather.db')\n",
    "with con:\n",
    "    cur = con.cursor()\n",
    "    cur.execute(\"SELECT Day, Location, Text_day, Texy_night, High, Low, wind_direction, wind_scale FROM Weathers WHERE Location=:location\", {'location': city})\n",
    "    row = cur.fetchone()\n",
    "    weather_str = u'{}，{}白天{}，夜晚{}。最高气温{}度，最低气温{}度。{}风{}级。'.format(row[0], row[1], row[2], row[3], row[4], row[5], row[6], row[7])\n",
    "    print(weather_str)"
   ]
  }
 ],
 "metadata": {
  "kernelspec": {
   "display_name": "Python 3",
   "language": "python",
   "name": "python3"
  },
  "language_info": {
   "codemirror_mode": {
    "name": "ipython",
    "version": 3
   },
   "file_extension": ".py",
   "mimetype": "text/x-python",
   "name": "python",
   "nbconvert_exporter": "python",
   "pygments_lexer": "ipython3",
   "version": "3.6.2"
  }
 },
 "nbformat": 4,
 "nbformat_minor": 2
}
